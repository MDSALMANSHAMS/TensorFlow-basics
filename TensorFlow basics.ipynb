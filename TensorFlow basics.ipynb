{
 "cells": [
  {
   "cell_type": "code",
   "execution_count": 2,
   "id": "8e77a736",
   "metadata": {},
   "outputs": [],
   "source": [
    "import tensorflow as tf"
   ]
  },
  {
   "cell_type": "code",
   "execution_count": 4,
   "id": "cabf7725",
   "metadata": {},
   "outputs": [
    {
     "data": {
      "text/plain": [
       "'2.9.1'"
      ]
     },
     "execution_count": 4,
     "metadata": {},
     "output_type": "execute_result"
    }
   ],
   "source": [
    "tf.__version__"
   ]
  },
  {
   "cell_type": "code",
   "execution_count": 7,
   "id": "73650595",
   "metadata": {},
   "outputs": [],
   "source": [
    "import keras as ks"
   ]
  },
  {
   "cell_type": "code",
   "execution_count": 8,
   "id": "ce1ba7dd",
   "metadata": {},
   "outputs": [
    {
     "data": {
      "text/plain": [
       "'2.9.0'"
      ]
     },
     "execution_count": 8,
     "metadata": {},
     "output_type": "execute_result"
    }
   ],
   "source": [
    "ks.__version__"
   ]
  },
  {
   "cell_type": "code",
   "execution_count": 10,
   "id": "d4ca39b7",
   "metadata": {},
   "outputs": [
    {
     "name": "stdout",
     "output_type": "stream",
     "text": [
      "tf.Tensor(20.0, shape=(), dtype=float32)\n"
     ]
    }
   ],
   "source": [
    "a=tf.constant(10.0)\n",
    "b=tf.constant(10.0)\n",
    "z=a+b\n",
    "print(a+b)"
   ]
  },
  {
   "cell_type": "code",
   "execution_count": 14,
   "id": "4e60a66e",
   "metadata": {},
   "outputs": [
    {
     "name": "stdout",
     "output_type": "stream",
     "text": [
      "tf.Tensor(22.0, shape=(), dtype=float32)\n"
     ]
    }
   ],
   "source": [
    "a=tf.Variable(12.0)\n",
    "b=tf.Variable(10.0)\n",
    "z=a+b\n",
    "print(a+b)"
   ]
  },
  {
   "cell_type": "code",
   "execution_count": 17,
   "id": "cf633ace",
   "metadata": {},
   "outputs": [
    {
     "name": "stdout",
     "output_type": "stream",
     "text": [
      "[[0 1 2 3]\n",
      " [4 5 6 7]]\n",
      "(2, 4)\n",
      "tf.Tensor(2, shape=(), dtype=int32)\n"
     ]
    }
   ],
   "source": [
    "a=tf.Variable(initial_value=([[0,1,2,3],[4,5,6,7]]),shape=(2,4),dtype='int32',name='a')\n",
    "print(a.numpy())\n",
    "print(a.shape)      #length of dimensions\n",
    "print(tf.rank(a))   #no. of dimensions"
   ]
  },
  {
   "cell_type": "code",
   "execution_count": 19,
   "id": "515e54a0",
   "metadata": {},
   "outputs": [
    {
     "name": "stdout",
     "output_type": "stream",
     "text": [
      "[1]\n",
      "(1,)\n",
      "tf.Tensor(1, shape=(), dtype=int32)\n"
     ]
    }
   ],
   "source": [
    "a=tf.Variable([1])  #only list will have the 1 dimension\n",
    "print(a.numpy())\n",
    "print(a.shape)      #length of dimensions\n",
    "print(tf.rank(a))   #no. of dimensions"
   ]
  },
  {
   "cell_type": "code",
   "execution_count": 32,
   "id": "483f5183",
   "metadata": {},
   "outputs": [
    {
     "name": "stdout",
     "output_type": "stream",
     "text": [
      "(4, 1)\n",
      "tf.Tensor(2, shape=(), dtype=int32)\n",
      "<tf.Variable 'Variable:0' shape=(4, 1) dtype=int32, numpy=\n",
      "array([[1],\n",
      "       [2],\n",
      "       [3],\n",
      "       [4]])>\n"
     ]
    }
   ],
   "source": [
    "a=tf.Variable([[1],[2],[3],[4]])  \n",
    "print(a.shape)      #length of dimensions\n",
    "print(tf.rank(a)) #no. of dimensions\n",
    "print(a)"
   ]
  },
  {
   "cell_type": "code",
   "execution_count": 24,
   "id": "4d174dfa",
   "metadata": {},
   "outputs": [
    {
     "name": "stdout",
     "output_type": "stream",
     "text": [
      "(6, 2)\n",
      "tf.Tensor(2, shape=(), dtype=int32)\n",
      "tf.Tensor(\n",
      "[[50 50]\n",
      " [50 50]\n",
      " [50 50]\n",
      " [50 50]\n",
      " [50 50]\n",
      " [50 50]], shape=(6, 2), dtype=int32)\n"
     ]
    }
   ],
   "source": [
    "a=tf.constant(50,shape=[6,2])\n",
    "print(a.shape)      #length of dimensions\n",
    "print(tf.rank(a))   #no. of dimensions\n",
    "print(a)"
   ]
  },
  {
   "cell_type": "code",
   "execution_count": 27,
   "id": "aad8c1a9",
   "metadata": {},
   "outputs": [
    {
     "name": "stdout",
     "output_type": "stream",
     "text": [
      "()\n",
      "tf.Tensor(0, shape=(), dtype=int32)\n",
      "tf.Tensor(5.0, shape=(), dtype=float64)\n",
      "tf.Tensor([], shape=(0,), dtype=int32)\n"
     ]
    }
   ],
   "source": [
    "a=tf.convert_to_tensor(5.0,dtype=tf.float64)   #converting scaler value (5.0) into tensor value\n",
    "print(a.shape)      #length of dimensions\n",
    "print(tf.rank(a))   #no. of dimensions\n",
    "print(a)\n",
    "print(tf.shape(a)) "
   ]
  },
  {
   "cell_type": "code",
   "execution_count": 34,
   "id": "4b74d702",
   "metadata": {},
   "outputs": [
    {
     "name": "stdout",
     "output_type": "stream",
     "text": [
      "\n",
      "\n",
      "tf.Tensor(2, shape=(), dtype=int32)\n",
      "tf.Tensor(\n",
      "[[1.]\n",
      " [2.]\n",
      " [3.]\n",
      " [4.]], shape=(4, 1), dtype=float64)\n",
      "tf.Tensor([4 1], shape=(2,), dtype=int32)\n"
     ]
    }
   ],
   "source": [
    "import numpy as np\n",
    "b=([1],[2],[3],[4])\n",
    "\n",
    "a=tf.convert_to_tensor(b,dtype=tf.float64)\n",
    "print('\\n')\n",
    "print(tf.rank(a))   #no. of dimensions\n",
    "print(a)\n",
    "print(tf.shape(a)) "
   ]
  },
  {
   "cell_type": "code",
   "execution_count": null,
   "id": "2ebfd31d",
   "metadata": {},
   "outputs": [],
   "source": []
  }
 ],
 "metadata": {
  "kernelspec": {
   "display_name": "Python 3 (ipykernel)",
   "language": "python",
   "name": "python3"
  },
  "language_info": {
   "codemirror_mode": {
    "name": "ipython",
    "version": 3
   },
   "file_extension": ".py",
   "mimetype": "text/x-python",
   "name": "python",
   "nbconvert_exporter": "python",
   "pygments_lexer": "ipython3",
   "version": "3.9.7"
  }
 },
 "nbformat": 4,
 "nbformat_minor": 5
}
